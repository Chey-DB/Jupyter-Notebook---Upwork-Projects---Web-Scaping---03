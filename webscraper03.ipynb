{
 "cells": [
  {
   "cell_type": "code",
   "execution_count": 32,
   "id": "b0a645a3-e9ae-4699-8bf8-1d1b66eda6d4",
   "metadata": {},
   "outputs": [],
   "source": [
    "from bs4 import BeautifulSoup\n",
    "import pandas as pd\n",
    "from selenium import webdriver\n",
    "from selenium.webdriver.common.by import By\n",
    "from selenium.webdriver.support.ui import WebDriverWait\n",
    "from selenium.webdriver.support import expected_conditions as EC\n",
    "import string"
   ]
  },
  {
   "cell_type": "code",
   "execution_count": 14,
   "id": "9e8756d8-0f80-4860-b9c6-65ed3b117f81",
   "metadata": {},
   "outputs": [],
   "source": [
    "name_categories_by_letter = []\n",
    "\n",
    "for first_letter in string.ascii_lowercase:\n",
    "    for second_letter in string.ascii_lowercase:\n",
    "        name_categories_by_letter.append(first_letter + second_letter)"
   ]
  },
  {
   "cell_type": "code",
   "execution_count": 34,
   "id": "bede8f59-791d-4472-aa52-7011e924057c",
   "metadata": {},
   "outputs": [],
   "source": [
    "master_dict = {\"name\": [], \"hyperlink\": []}"
   ]
  },
  {
   "cell_type": "code",
   "execution_count": 30,
   "id": "2648b9ed-a55b-4831-bc57-82e312d16d1c",
   "metadata": {},
   "outputs": [],
   "source": [
    "def scrape_names(driver):\n",
    "    html = driver.page_source\n",
    "    soup = BeautifulSoup(html, \"html.parser\")\n",
    "    names = soup.select(\"h4.name\")\n",
    "    for name in names[:10]:\n",
    "        master_dict[\"name\"].append(name.text)\n",
    "        master_dict[\"hyperlink\"].append(f\"https://forebears.io/forenames/{name.text}\")"
   ]
  },
  {
   "cell_type": "code",
   "execution_count": 36,
   "id": "2690e0c1-a26f-4707-977c-fd524b5b754a",
   "metadata": {},
   "outputs": [],
   "source": [
    "wait = WebDriverWait(driver, 10)"
   ]
  },
  {
   "cell_type": "code",
   "execution_count": 37,
   "id": "fb99ecbf-477c-4f60-8c98-3e2ef3fab357",
   "metadata": {},
   "outputs": [],
   "source": [
    "driver = webdriver.Chrome()\n",
    "for category in name_categories_by_letter[:5]:\n",
    "    driver.get(f\"https://forebears.io/forenames/begining-with/{category}\")\n",
    "\n",
    "    try:        \n",
    "        agree_button = wait.until(EC.element_to_be_clickable((By.CSS_SELECTOR, \"button.css-47sehv\")))\n",
    "        agree_button.click()\n",
    "\n",
    "        scrape_names(driver)\n",
    "    except:        \n",
    "        scrape_names(driver)"
   ]
  },
  {
   "cell_type": "code",
   "execution_count": 38,
   "id": "4fa7bf2a-8c1c-4b0c-8300-a91ba2e9fa91",
   "metadata": {},
   "outputs": [
    {
     "data": {
      "text/plain": [
       "50"
      ]
     },
     "execution_count": 38,
     "metadata": {},
     "output_type": "execute_result"
    }
   ],
   "source": [
    "len(master_dict[\"name\"])"
   ]
  },
  {
   "cell_type": "code",
   "execution_count": 39,
   "id": "d9d8279c-aa36-4798-8c8c-35794e220906",
   "metadata": {},
   "outputs": [],
   "source": [
    "master_dict_df = pd.DataFrame(master_dict)"
   ]
  },
  {
   "cell_type": "code",
   "execution_count": 40,
   "id": "bea201a0-0f1b-4652-a739-eb834009108c",
   "metadata": {},
   "outputs": [],
   "source": [
    "master_dict_df.to_excel(\"forenames.xlsx\", index=False)"
   ]
  }
 ],
 "metadata": {
  "kernelspec": {
   "display_name": "UpworkProject3",
   "language": "python",
   "name": "upworkproject3"
  },
  "language_info": {
   "codemirror_mode": {
    "name": "ipython",
    "version": 3
   },
   "file_extension": ".py",
   "mimetype": "text/x-python",
   "name": "python",
   "nbconvert_exporter": "python",
   "pygments_lexer": "ipython3",
   "version": "3.12.0"
  }
 },
 "nbformat": 4,
 "nbformat_minor": 5
}
